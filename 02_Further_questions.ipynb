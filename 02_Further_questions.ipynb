{
 "cells": [
  {
   "cell_type": "markdown",
   "id": "classified-start",
   "metadata": {
    "toc": true
   },
   "source": [
    "<h1>Table of Contents<span class=\"tocSkip\"></span></h1>\n",
    "<div class=\"toc\"><ul class=\"toc-item\"><li><span><a href=\"#Retrieve-an-arbitrary-Wikipedia-page-of-&quot;Python&quot;-and-create-a-list-of-links-on-that-page\" data-toc-modified-id=\"Retrieve-an-arbitrary-Wikipedia-page-of-&quot;Python&quot;-and-create-a-list-of-links-on-that-page-1\"><span class=\"toc-item-num\">1&nbsp;&nbsp;</span>Retrieve an arbitrary Wikipedia page of \"Python\" and create a list of links on that page</a></span></li><li><span><a href=\"#Find-the-number-of-titles-that-have-changed-in-the-United-States-Code-since-its-last-release-point\" data-toc-modified-id=\"Find-the-number-of-titles-that-have-changed-in-the-United-States-Code-since-its-last-release-point-2\"><span class=\"toc-item-num\">2&nbsp;&nbsp;</span>Find the number of titles that have changed in the United States Code since its last release point</a></span></li><li><span><a href=\"#Create-a-Python-list-with-the-top-ten-FBI's-Most-Wanted-names\" data-toc-modified-id=\"Create-a-Python-list-with-the-top-ten-FBI's-Most-Wanted-names-3\"><span class=\"toc-item-num\">3&nbsp;&nbsp;</span>Create a Python list with the top ten FBI's Most Wanted names</a></span></li><li><span><a href=\"#Display-the-20-latest-earthquakes-info-(date,-time,-latitude,-longitude-and-region-name)-by-the-EMSC-as-a-pandas-dataframe\" data-toc-modified-id=\"Display-the-20-latest-earthquakes-info-(date,-time,-latitude,-longitude-and-region-name)-by-the-EMSC-as-a-pandas-dataframe-4\"><span class=\"toc-item-num\">4&nbsp;&nbsp;</span>Display the 20 latest earthquakes info (date, time, latitude, longitude and region name) by the EMSC as a pandas dataframe</a></span></li><li><span><a href=\"#List-all-language-names-and-number-of-related-articles-in-the-order-they-appear-in-wikipedia.org\" data-toc-modified-id=\"List-all-language-names-and-number-of-related-articles-in-the-order-they-appear-in-wikipedia.org-5\"><span class=\"toc-item-num\">5&nbsp;&nbsp;</span>List all language names and number of related articles in the order they appear in <a href=\"wikipedia.org\" target=\"_blank\">wikipedia.org</a></a></span></li><li><span><a href=\"#A-list-with-the-different-kind-of-datasets-available-in-data.gov.uk\" data-toc-modified-id=\"A-list-with-the-different-kind-of-datasets-available-in-data.gov.uk-6\"><span class=\"toc-item-num\">6&nbsp;&nbsp;</span>A list with the different kind of datasets available in <a href=\"data.gov.uk\" target=\"_blank\">data.gov.uk</a></a></span></li><li><span><a href=\"#Display-the-top-10-languages-by-number-of-native-speakers-stored-in-a-pandas-dataframe\" data-toc-modified-id=\"Display-the-top-10-languages-by-number-of-native-speakers-stored-in-a-pandas-dataframe-7\"><span class=\"toc-item-num\">7&nbsp;&nbsp;</span>Display the top 10 languages by number of native speakers stored in a pandas dataframe</a></span></li></ul></div>"
   ]
  },
  {
   "cell_type": "markdown",
   "id": "cellular-poster",
   "metadata": {},
   "source": [
    "As you've seen, scraping the internet is a skill that can get you all sorts of information. Here are some little challenges to gain more experience in the field"
   ]
  },
  {
   "cell_type": "code",
   "execution_count": 1,
   "id": "ebcadb1b",
   "metadata": {},
   "outputs": [],
   "source": [
    "from bs4 import BeautifulSoup\n",
    "import requests\n",
    "import pandas as pd"
   ]
  },
  {
   "cell_type": "markdown",
   "id": "express-introduction",
   "metadata": {},
   "source": [
    "### Retrieve an arbitrary Wikipedia page of \"Python\" and create a list of links on that page"
   ]
  },
  {
   "cell_type": "code",
   "execution_count": 2,
   "id": "appreciated-bubble",
   "metadata": {},
   "outputs": [],
   "source": [
    "url ='https://en.wikipedia.org/wiki/Python'"
   ]
  },
  {
   "cell_type": "code",
   "execution_count": 3,
   "id": "ed026649",
   "metadata": {},
   "outputs": [
    {
     "data": {
      "text/plain": [
       "200"
      ]
     },
     "execution_count": 3,
     "metadata": {},
     "output_type": "execute_result"
    }
   ],
   "source": [
    "response = requests.get(url)\n",
    "response.status_code"
   ]
  },
  {
   "cell_type": "code",
   "execution_count": 4,
   "id": "cf8b4107",
   "metadata": {},
   "outputs": [],
   "source": [
    "soup = BeautifulSoup(response.content, \"html.parser\")"
   ]
  },
  {
   "cell_type": "code",
   "execution_count": 37,
   "id": "95c39303",
   "metadata": {},
   "outputs": [
    {
     "data": {
      "text/plain": [
       "['Computing',\n",
       " 'People',\n",
       " 'Roller coasters',\n",
       " 'Vehicles',\n",
       " 'Weaponry',\n",
       " 'Other uses',\n",
       " 'See also']"
      ]
     },
     "execution_count": 37,
     "metadata": {},
     "output_type": "execute_result"
    }
   ],
   "source": [
    "contents = []\n",
    "pre = soup.find_all('span', attrs={'class': 'toctext'})\n",
    "for c in pre:\n",
    "    contents.append(c.get_text())\n",
    "contents"
   ]
  },
  {
   "cell_type": "code",
   "execution_count": 28,
   "id": "3bc0b3a9",
   "metadata": {},
   "outputs": [
    {
     "data": {
      "text/plain": [
       "'https://en.wikipedia.org/wiki/Python#Computing'"
      ]
     },
     "execution_count": 28,
     "metadata": {},
     "output_type": "execute_result"
    }
   ],
   "source": [
    "links = 'https://en.wikipedia.org/wiki/Python' + soup.find('li', attrs={'class': 'toclevel-1 tocsection-1'}).find('a').get('href')\n",
    "links"
   ]
  },
  {
   "cell_type": "code",
   "execution_count": 54,
   "id": "4639eed6",
   "metadata": {},
   "outputs": [],
   "source": [
    "contents = []\n",
    "links = []\n",
    "\n",
    "pre = soup.find_all('span', attrs={'class': 'toctext'})\n",
    "\n",
    "for i, c in enumerate(pre):\n",
    "    contents.append(c.get_text())\n",
    "    x = i+1\n",
    "    links.append('https://en.wikipedia.org/wiki/Python' + soup.find('li', attrs={'class': 'toclevel-1 tocsection-'+str(x)}).find('a').get('href'))\n"
   ]
  },
  {
   "cell_type": "code",
   "execution_count": 55,
   "id": "95ccd4f6",
   "metadata": {},
   "outputs": [
    {
     "data": {
      "text/html": [
       "<div>\n",
       "<style scoped>\n",
       "    .dataframe tbody tr th:only-of-type {\n",
       "        vertical-align: middle;\n",
       "    }\n",
       "\n",
       "    .dataframe tbody tr th {\n",
       "        vertical-align: top;\n",
       "    }\n",
       "\n",
       "    .dataframe thead th {\n",
       "        text-align: right;\n",
       "    }\n",
       "</style>\n",
       "<table border=\"1\" class=\"dataframe\">\n",
       "  <thead>\n",
       "    <tr style=\"text-align: right;\">\n",
       "      <th></th>\n",
       "      <th>content</th>\n",
       "      <th>link</th>\n",
       "    </tr>\n",
       "  </thead>\n",
       "  <tbody>\n",
       "    <tr>\n",
       "      <th>0</th>\n",
       "      <td>Computing</td>\n",
       "      <td>https://en.wikipedia.org/wiki/Python#Computing</td>\n",
       "    </tr>\n",
       "    <tr>\n",
       "      <th>1</th>\n",
       "      <td>People</td>\n",
       "      <td>https://en.wikipedia.org/wiki/Python#People</td>\n",
       "    </tr>\n",
       "    <tr>\n",
       "      <th>2</th>\n",
       "      <td>Roller coasters</td>\n",
       "      <td>https://en.wikipedia.org/wiki/Python#Roller_co...</td>\n",
       "    </tr>\n",
       "    <tr>\n",
       "      <th>3</th>\n",
       "      <td>Vehicles</td>\n",
       "      <td>https://en.wikipedia.org/wiki/Python#Vehicles</td>\n",
       "    </tr>\n",
       "    <tr>\n",
       "      <th>4</th>\n",
       "      <td>Weaponry</td>\n",
       "      <td>https://en.wikipedia.org/wiki/Python#Weaponry</td>\n",
       "    </tr>\n",
       "    <tr>\n",
       "      <th>5</th>\n",
       "      <td>Other uses</td>\n",
       "      <td>https://en.wikipedia.org/wiki/Python#Other_uses</td>\n",
       "    </tr>\n",
       "    <tr>\n",
       "      <th>6</th>\n",
       "      <td>See also</td>\n",
       "      <td>https://en.wikipedia.org/wiki/Python#See_also</td>\n",
       "    </tr>\n",
       "  </tbody>\n",
       "</table>\n",
       "</div>"
      ],
      "text/plain": [
       "           content                                               link\n",
       "0        Computing     https://en.wikipedia.org/wiki/Python#Computing\n",
       "1           People        https://en.wikipedia.org/wiki/Python#People\n",
       "2  Roller coasters  https://en.wikipedia.org/wiki/Python#Roller_co...\n",
       "3         Vehicles      https://en.wikipedia.org/wiki/Python#Vehicles\n",
       "4         Weaponry      https://en.wikipedia.org/wiki/Python#Weaponry\n",
       "5       Other uses    https://en.wikipedia.org/wiki/Python#Other_uses\n",
       "6         See also      https://en.wikipedia.org/wiki/Python#See_also"
      ]
     },
     "execution_count": 55,
     "metadata": {},
     "output_type": "execute_result"
    }
   ],
   "source": [
    "dct = {'content': contents, 'link': links}\n",
    "\n",
    "df = pd.DataFrame.from_dict(dct)\n",
    "df"
   ]
  },
  {
   "cell_type": "markdown",
   "id": "relevant-performer",
   "metadata": {},
   "source": [
    "### Find the number of titles that have changed in the United States Code since its last release point"
   ]
  },
  {
   "cell_type": "code",
   "execution_count": 56,
   "id": "scenic-surgeon",
   "metadata": {},
   "outputs": [],
   "source": [
    "url = 'http://uscode.house.gov/download/download.shtml'"
   ]
  },
  {
   "cell_type": "code",
   "execution_count": 57,
   "id": "2bcc0343",
   "metadata": {},
   "outputs": [
    {
     "data": {
      "text/plain": [
       "200"
      ]
     },
     "execution_count": 57,
     "metadata": {},
     "output_type": "execute_result"
    }
   ],
   "source": [
    "response = requests.get(url)\n",
    "response.status_code"
   ]
  },
  {
   "cell_type": "code",
   "execution_count": 58,
   "id": "8d5778d2",
   "metadata": {},
   "outputs": [],
   "source": [
    "soup = BeautifulSoup(response.content, \"html.parser\")"
   ]
  },
  {
   "cell_type": "code",
   "execution_count": 80,
   "id": "df61ca56",
   "metadata": {},
   "outputs": [
    {
     "name": "stdout",
     "output_type": "stream",
     "text": [
      "Number of titles: 54\n"
     ]
    }
   ],
   "source": [
    "titles = []\n",
    "pre = soup.find_all('div', attrs={'class': 'usctitle'})\n",
    "for t in pre:\n",
    "    titles.append(t.get_text())\n",
    "print('Number of titles:', titles[-1].split()[1])"
   ]
  },
  {
   "cell_type": "markdown",
   "id": "acute-necessity",
   "metadata": {},
   "source": [
    "### Create a Python list with the top ten FBI's Most Wanted names"
   ]
  },
  {
   "cell_type": "code",
   "execution_count": 81,
   "id": "starting-blackberry",
   "metadata": {},
   "outputs": [],
   "source": [
    "url = 'https://www.fbi.gov/wanted/topten'"
   ]
  },
  {
   "cell_type": "code",
   "execution_count": 82,
   "id": "1b1d7936",
   "metadata": {},
   "outputs": [
    {
     "data": {
      "text/plain": [
       "200"
      ]
     },
     "execution_count": 82,
     "metadata": {},
     "output_type": "execute_result"
    }
   ],
   "source": [
    "response = requests.get(url)\n",
    "response.status_code"
   ]
  },
  {
   "cell_type": "code",
   "execution_count": 83,
   "id": "6c021c42",
   "metadata": {},
   "outputs": [],
   "source": [
    "soup = BeautifulSoup(response.content, \"html.parser\")"
   ]
  },
  {
   "cell_type": "code",
   "execution_count": 95,
   "id": "5dd15661",
   "metadata": {},
   "outputs": [
    {
     "name": "stdout",
     "output_type": "stream",
     "text": [
      "['Arnoldo jimenez', 'Jason derek brown', 'Alexis flores', 'Jose rodolfo villarreal hernandez', 'Octaviano juarez corro', 'Eugene palmer', 'Rafael caro quintero', 'Bhadreshkumar chetanbhai patel', 'Alejandro castillo', 'Robert william fisher']\n"
     ]
    }
   ],
   "source": [
    "wanted = []\n",
    "pre = soup.find_all('li', attrs={'class': 'portal-type-person castle-grid-block-item'})\n",
    "\n",
    "for i, c in enumerate(pre):\n",
    "    wanted.append(c.find('a').get('href').split('/')[-1].replace('-',' ').capitalize())\n",
    "    x = i+1\n",
    "\n",
    "print(wanted)\n"
   ]
  },
  {
   "cell_type": "markdown",
   "id": "joined-induction",
   "metadata": {},
   "source": [
    "### Display the 20 latest earthquakes info (date, time, latitude, longitude and region name) by the EMSC as a pandas dataframe"
   ]
  },
  {
   "cell_type": "code",
   "execution_count": 96,
   "id": "copyrighted-taiwan",
   "metadata": {},
   "outputs": [],
   "source": [
    "url = 'https://www.emsc-csem.org/Earthquake/'"
   ]
  },
  {
   "cell_type": "code",
   "execution_count": 97,
   "id": "d15989b7",
   "metadata": {},
   "outputs": [
    {
     "data": {
      "text/plain": [
       "200"
      ]
     },
     "execution_count": 97,
     "metadata": {},
     "output_type": "execute_result"
    }
   ],
   "source": [
    "response = requests.get(url)\n",
    "response.status_code"
   ]
  },
  {
   "cell_type": "code",
   "execution_count": 98,
   "id": "85cd3c87",
   "metadata": {},
   "outputs": [],
   "source": [
    "soup = BeautifulSoup(response.content, \"html.parser\")"
   ]
  },
  {
   "cell_type": "markdown",
   "id": "dominican-defeat",
   "metadata": {},
   "source": [
    "### List all language names and number of related articles in the order they appear in [wikipedia.org](wikipedia.org)"
   ]
  },
  {
   "cell_type": "code",
   "execution_count": null,
   "id": "metric-vertex",
   "metadata": {},
   "outputs": [],
   "source": [
    "url = 'https://www.wikipedia.org/'"
   ]
  },
  {
   "cell_type": "code",
   "execution_count": null,
   "id": "a0f9d350",
   "metadata": {},
   "outputs": [],
   "source": [
    "response = requests.get(url)\n",
    "response.status_code"
   ]
  },
  {
   "cell_type": "code",
   "execution_count": null,
   "id": "d7f371f1",
   "metadata": {},
   "outputs": [],
   "source": [
    "soup = BeautifulSoup(response.content, \"html.parser\")"
   ]
  },
  {
   "cell_type": "markdown",
   "id": "split-cartridge",
   "metadata": {},
   "source": [
    "### A list with the different kind of datasets available in [data.gov.uk](data.gov.uk)\n"
   ]
  },
  {
   "cell_type": "code",
   "execution_count": null,
   "id": "actual-parallel",
   "metadata": {},
   "outputs": [],
   "source": [
    "url = 'https://data.gov.uk/"
   ]
  },
  {
   "cell_type": "code",
   "execution_count": null,
   "id": "42e312fd",
   "metadata": {},
   "outputs": [],
   "source": [
    "response = requests.get(url)\n",
    "response.status_code"
   ]
  },
  {
   "cell_type": "code",
   "execution_count": null,
   "id": "07d043d0",
   "metadata": {},
   "outputs": [],
   "source": [
    "soup = BeautifulSoup(response.content, \"html.parser\")"
   ]
  },
  {
   "cell_type": "markdown",
   "id": "potential-malpractice",
   "metadata": {},
   "source": [
    "### Display the top 10 languages by number of native speakers stored in a pandas dataframe"
   ]
  },
  {
   "cell_type": "code",
   "execution_count": null,
   "id": "adaptive-calculator",
   "metadata": {},
   "outputs": [],
   "source": [
    "url = 'https://en.wikipedia.org/wiki/List_of_languages_by_number_of_native_speakers'"
   ]
  },
  {
   "cell_type": "code",
   "execution_count": null,
   "id": "6b2cda87",
   "metadata": {},
   "outputs": [],
   "source": [
    "response = requests.get(url)\n",
    "response.status_code"
   ]
  },
  {
   "cell_type": "code",
   "execution_count": null,
   "id": "62ff13a7",
   "metadata": {},
   "outputs": [],
   "source": [
    "soup = BeautifulSoup(response.content, \"html.parser\")"
   ]
  }
 ],
 "metadata": {
  "kernelspec": {
   "display_name": "Python 3",
   "language": "python",
   "name": "python3"
  },
  "language_info": {
   "codemirror_mode": {
    "name": "ipython",
    "version": 3
   },
   "file_extension": ".py",
   "mimetype": "text/x-python",
   "name": "python",
   "nbconvert_exporter": "python",
   "pygments_lexer": "ipython3",
   "version": "3.8.8"
  },
  "toc": {
   "base_numbering": 1,
   "nav_menu": {},
   "number_sections": true,
   "sideBar": true,
   "skip_h1_title": false,
   "title_cell": "Table of Contents",
   "title_sidebar": "Contents",
   "toc_cell": true,
   "toc_position": {},
   "toc_section_display": true,
   "toc_window_display": false
  },
  "varInspector": {
   "cols": {
    "lenName": 16,
    "lenType": 16,
    "lenVar": 40
   },
   "kernels_config": {
    "python": {
     "delete_cmd_postfix": "",
     "delete_cmd_prefix": "del ",
     "library": "var_list.py",
     "varRefreshCmd": "print(var_dic_list())"
    },
    "r": {
     "delete_cmd_postfix": ") ",
     "delete_cmd_prefix": "rm(",
     "library": "var_list.r",
     "varRefreshCmd": "cat(var_dic_list()) "
    }
   },
   "types_to_exclude": [
    "module",
    "function",
    "builtin_function_or_method",
    "instance",
    "_Feature"
   ],
   "window_display": false
  }
 },
 "nbformat": 4,
 "nbformat_minor": 5
}
