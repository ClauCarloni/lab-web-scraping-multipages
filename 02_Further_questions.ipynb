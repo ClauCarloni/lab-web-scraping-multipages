{
 "cells": [
  {
   "cell_type": "markdown",
   "id": "classified-start",
   "metadata": {
    "toc": true
   },
   "source": [
    "<h1>Table of Contents<span class=\"tocSkip\"></span></h1>\n",
    "<div class=\"toc\"><ul class=\"toc-item\"><li><span><a href=\"#Retrieve-an-arbitrary-Wikipedia-page-of-&quot;Python&quot;-and-create-a-list-of-links-on-that-page\" data-toc-modified-id=\"Retrieve-an-arbitrary-Wikipedia-page-of-&quot;Python&quot;-and-create-a-list-of-links-on-that-page-1\"><span class=\"toc-item-num\">1&nbsp;&nbsp;</span>Retrieve an arbitrary Wikipedia page of \"Python\" and create a list of links on that page</a></span></li><li><span><a href=\"#Find-the-number-of-titles-that-have-changed-in-the-United-States-Code-since-its-last-release-point\" data-toc-modified-id=\"Find-the-number-of-titles-that-have-changed-in-the-United-States-Code-since-its-last-release-point-2\"><span class=\"toc-item-num\">2&nbsp;&nbsp;</span>Find the number of titles that have changed in the United States Code since its last release point</a></span></li><li><span><a href=\"#Create-a-Python-list-with-the-top-ten-FBI's-Most-Wanted-names\" data-toc-modified-id=\"Create-a-Python-list-with-the-top-ten-FBI's-Most-Wanted-names-3\"><span class=\"toc-item-num\">3&nbsp;&nbsp;</span>Create a Python list with the top ten FBI's Most Wanted names</a></span></li><li><span><a href=\"#Display-the-20-latest-earthquakes-info-(date,-time,-latitude,-longitude-and-region-name)-by-the-EMSC-as-a-pandas-dataframe\" data-toc-modified-id=\"Display-the-20-latest-earthquakes-info-(date,-time,-latitude,-longitude-and-region-name)-by-the-EMSC-as-a-pandas-dataframe-4\"><span class=\"toc-item-num\">4&nbsp;&nbsp;</span>Display the 20 latest earthquakes info (date, time, latitude, longitude and region name) by the EMSC as a pandas dataframe</a></span></li><li><span><a href=\"#List-all-language-names-and-number-of-related-articles-in-the-order-they-appear-in-wikipedia.org\" data-toc-modified-id=\"List-all-language-names-and-number-of-related-articles-in-the-order-they-appear-in-wikipedia.org-5\"><span class=\"toc-item-num\">5&nbsp;&nbsp;</span>List all language names and number of related articles in the order they appear in <a href=\"wikipedia.org\" target=\"_blank\">wikipedia.org</a></a></span></li><li><span><a href=\"#A-list-with-the-different-kind-of-datasets-available-in-data.gov.uk\" data-toc-modified-id=\"A-list-with-the-different-kind-of-datasets-available-in-data.gov.uk-6\"><span class=\"toc-item-num\">6&nbsp;&nbsp;</span>A list with the different kind of datasets available in <a href=\"data.gov.uk\" target=\"_blank\">data.gov.uk</a></a></span></li><li><span><a href=\"#Display-the-top-10-languages-by-number-of-native-speakers-stored-in-a-pandas-dataframe\" data-toc-modified-id=\"Display-the-top-10-languages-by-number-of-native-speakers-stored-in-a-pandas-dataframe-7\"><span class=\"toc-item-num\">7&nbsp;&nbsp;</span>Display the top 10 languages by number of native speakers stored in a pandas dataframe</a></span></li></ul></div>"
   ]
  },
  {
   "cell_type": "markdown",
   "id": "cellular-poster",
   "metadata": {},
   "source": [
    "As you've seen, scraping the internet is a skill that can get you all sorts of information. Here are some little challenges to gain more experience in the field"
   ]
  },
  {
   "cell_type": "code",
   "execution_count": 218,
   "id": "ebcadb1b",
   "metadata": {},
   "outputs": [],
   "source": [
    "from bs4 import BeautifulSoup\n",
    "import requests\n",
    "import pandas as pd\n",
    "import dateutil.parser as dparser"
   ]
  },
  {
   "cell_type": "markdown",
   "id": "express-introduction",
   "metadata": {},
   "source": [
    "### Retrieve an arbitrary Wikipedia page of \"Python\" and create a list of links on that page"
   ]
  },
  {
   "cell_type": "code",
   "execution_count": 2,
   "id": "appreciated-bubble",
   "metadata": {},
   "outputs": [],
   "source": [
    "url ='https://en.wikipedia.org/wiki/Python'"
   ]
  },
  {
   "cell_type": "code",
   "execution_count": 3,
   "id": "ed026649",
   "metadata": {},
   "outputs": [
    {
     "data": {
      "text/plain": [
       "200"
      ]
     },
     "execution_count": 3,
     "metadata": {},
     "output_type": "execute_result"
    }
   ],
   "source": [
    "response = requests.get(url)\n",
    "response.status_code"
   ]
  },
  {
   "cell_type": "code",
   "execution_count": 4,
   "id": "cf8b4107",
   "metadata": {},
   "outputs": [],
   "source": [
    "soup = BeautifulSoup(response.content, \"html.parser\")"
   ]
  },
  {
   "cell_type": "code",
   "execution_count": 37,
   "id": "b2d8c687",
   "metadata": {},
   "outputs": [
    {
     "data": {
      "text/plain": [
       "['Computing',\n",
       " 'People',\n",
       " 'Roller coasters',\n",
       " 'Vehicles',\n",
       " 'Weaponry',\n",
       " 'Other uses',\n",
       " 'See also']"
      ]
     },
     "execution_count": 37,
     "metadata": {},
     "output_type": "execute_result"
    }
   ],
   "source": [
    "contents = []\n",
    "pre = soup.find_all('span', attrs={'class': 'toctext'})\n",
    "for c in pre:\n",
    "    contents.append(c.get_text())\n",
    "contents"
   ]
  },
  {
   "cell_type": "code",
   "execution_count": 28,
   "id": "b2243b31",
   "metadata": {},
   "outputs": [
    {
     "data": {
      "text/plain": [
       "'https://en.wikipedia.org/wiki/Python#Computing'"
      ]
     },
     "execution_count": 28,
     "metadata": {},
     "output_type": "execute_result"
    }
   ],
   "source": [
    "links = 'https://en.wikipedia.org/wiki/Python' + soup.find('li', attrs={'class': 'toclevel-1 tocsection-1'}).find('a').get('href')\n",
    "links"
   ]
  },
  {
   "cell_type": "code",
   "execution_count": 54,
   "id": "2f8bcf8f",
   "metadata": {},
   "outputs": [],
   "source": [
    "contents = []\n",
    "links = []\n",
    "\n",
    "pre = soup.find_all('span', attrs={'class': 'toctext'})\n",
    "\n",
    "for i, c in enumerate(pre):\n",
    "    contents.append(c.get_text())\n",
    "    x = i+1\n",
    "    links.append('https://en.wikipedia.org/wiki/Python' + soup.find('li', attrs={'class': 'toclevel-1 tocsection-'+str(x)}).find('a').get('href'))\n"
   ]
  },
  {
   "cell_type": "code",
   "execution_count": 55,
   "id": "e4dfc6be",
   "metadata": {},
   "outputs": [
    {
     "data": {
      "text/html": [
       "<div>\n",
       "<style scoped>\n",
       "    .dataframe tbody tr th:only-of-type {\n",
       "        vertical-align: middle;\n",
       "    }\n",
       "\n",
       "    .dataframe tbody tr th {\n",
       "        vertical-align: top;\n",
       "    }\n",
       "\n",
       "    .dataframe thead th {\n",
       "        text-align: right;\n",
       "    }\n",
       "</style>\n",
       "<table border=\"1\" class=\"dataframe\">\n",
       "  <thead>\n",
       "    <tr style=\"text-align: right;\">\n",
       "      <th></th>\n",
       "      <th>content</th>\n",
       "      <th>link</th>\n",
       "    </tr>\n",
       "  </thead>\n",
       "  <tbody>\n",
       "    <tr>\n",
       "      <th>0</th>\n",
       "      <td>Computing</td>\n",
       "      <td>https://en.wikipedia.org/wiki/Python#Computing</td>\n",
       "    </tr>\n",
       "    <tr>\n",
       "      <th>1</th>\n",
       "      <td>People</td>\n",
       "      <td>https://en.wikipedia.org/wiki/Python#People</td>\n",
       "    </tr>\n",
       "    <tr>\n",
       "      <th>2</th>\n",
       "      <td>Roller coasters</td>\n",
       "      <td>https://en.wikipedia.org/wiki/Python#Roller_co...</td>\n",
       "    </tr>\n",
       "    <tr>\n",
       "      <th>3</th>\n",
       "      <td>Vehicles</td>\n",
       "      <td>https://en.wikipedia.org/wiki/Python#Vehicles</td>\n",
       "    </tr>\n",
       "    <tr>\n",
       "      <th>4</th>\n",
       "      <td>Weaponry</td>\n",
       "      <td>https://en.wikipedia.org/wiki/Python#Weaponry</td>\n",
       "    </tr>\n",
       "    <tr>\n",
       "      <th>5</th>\n",
       "      <td>Other uses</td>\n",
       "      <td>https://en.wikipedia.org/wiki/Python#Other_uses</td>\n",
       "    </tr>\n",
       "    <tr>\n",
       "      <th>6</th>\n",
       "      <td>See also</td>\n",
       "      <td>https://en.wikipedia.org/wiki/Python#See_also</td>\n",
       "    </tr>\n",
       "  </tbody>\n",
       "</table>\n",
       "</div>"
      ],
      "text/plain": [
       "           content                                               link\n",
       "0        Computing     https://en.wikipedia.org/wiki/Python#Computing\n",
       "1           People        https://en.wikipedia.org/wiki/Python#People\n",
       "2  Roller coasters  https://en.wikipedia.org/wiki/Python#Roller_co...\n",
       "3         Vehicles      https://en.wikipedia.org/wiki/Python#Vehicles\n",
       "4         Weaponry      https://en.wikipedia.org/wiki/Python#Weaponry\n",
       "5       Other uses    https://en.wikipedia.org/wiki/Python#Other_uses\n",
       "6         See also      https://en.wikipedia.org/wiki/Python#See_also"
      ]
     },
     "execution_count": 55,
     "metadata": {},
     "output_type": "execute_result"
    }
   ],
   "source": [
    "dct = {'content': contents, 'link': links}\n",
    "\n",
    "df = pd.DataFrame.from_dict(dct)\n",
    "df"
   ]
  },
  {
   "cell_type": "markdown",
   "id": "relevant-performer",
   "metadata": {},
   "source": [
    "### Find the number of titles that have changed in the United States Code since its last release point"
   ]
  },
  {
   "cell_type": "code",
   "execution_count": 56,
   "id": "scenic-surgeon",
   "metadata": {},
   "outputs": [],
   "source": [
    "url = 'http://uscode.house.gov/download/download.shtml'"
   ]
  },
  {
   "cell_type": "code",
   "execution_count": 57,
   "id": "8fbdcb03",
   "metadata": {},
   "outputs": [
    {
     "data": {
      "text/plain": [
       "200"
      ]
     },
     "execution_count": 57,
     "metadata": {},
     "output_type": "execute_result"
    }
   ],
   "source": [
    "response = requests.get(url)\n",
    "response.status_code"
   ]
  },
  {
   "cell_type": "code",
   "execution_count": 58,
   "id": "ea0eb3a2",
   "metadata": {},
   "outputs": [],
   "source": [
    "soup = BeautifulSoup(response.content, \"html.parser\")"
   ]
  },
  {
   "cell_type": "code",
   "execution_count": 80,
   "id": "4c1d3a5a",
   "metadata": {},
   "outputs": [
    {
     "name": "stdout",
     "output_type": "stream",
     "text": [
      "Number of titles: 54\n"
     ]
    }
   ],
   "source": [
    "titles = []\n",
    "pre = soup.find_all('div', attrs={'class': 'usctitle'})\n",
    "for t in pre:\n",
    "    titles.append(t.get_text())\n",
    "print('Number of titles:', titles[-1].split()[1])"
   ]
  },
  {
   "cell_type": "markdown",
   "id": "acute-necessity",
   "metadata": {},
   "source": [
    "### Create a Python list with the top ten FBI's Most Wanted names"
   ]
  },
  {
   "cell_type": "code",
   "execution_count": 103,
   "id": "starting-blackberry",
   "metadata": {},
   "outputs": [],
   "source": [
    "url = 'https://www.fbi.gov/wanted/topten'"
   ]
  },
  {
   "cell_type": "code",
   "execution_count": 104,
   "id": "d3d6c445",
   "metadata": {},
   "outputs": [
    {
     "data": {
      "text/plain": [
       "200"
      ]
     },
     "execution_count": 104,
     "metadata": {},
     "output_type": "execute_result"
    }
   ],
   "source": [
    "response = requests.get(url)\n",
    "response.status_code"
   ]
  },
  {
   "cell_type": "code",
   "execution_count": 105,
   "id": "224fb793",
   "metadata": {},
   "outputs": [],
   "source": [
    "soup = BeautifulSoup(response.content, \"html.parser\")"
   ]
  },
  {
   "cell_type": "code",
   "execution_count": 151,
   "id": "aec49dc7",
   "metadata": {},
   "outputs": [
    {
     "data": {
      "text/plain": [
       "['arnoldo jimenez',\n",
       " 'jason derek brown',\n",
       " 'alexis flores',\n",
       " 'jose rodolfo villarreal hernandez',\n",
       " 'octaviano juarez corro',\n",
       " 'eugene palmer',\n",
       " 'rafael caro quintero',\n",
       " 'bhadreshkumar chetanbhai patel',\n",
       " 'alejandro castillo',\n",
       " 'robert william fisher']"
      ]
     },
     "execution_count": 151,
     "metadata": {},
     "output_type": "execute_result"
    }
   ],
   "source": [
    "wanted = []\n",
    "pre = soup.find_all('li', attrs={'class': 'portal-type-person castle-grid-block-item'})\n",
    "\n",
    "for i, c in enumerate(pre):\n",
    "    wanted.append(c.find('a').get('href').split('/')[-1].replace('-',' '))\n",
    "    x = i+1\n",
    "    \n",
    "wanted"
   ]
  },
  {
   "cell_type": "code",
   "execution_count": 149,
   "id": "9eac58af",
   "metadata": {},
   "outputs": [
    {
     "data": {
      "text/plain": [
       "['Arnoldo Jimenez',\n",
       " 'Jason Derek Brown',\n",
       " 'Alexis Flores',\n",
       " 'Jose Rodolfo Villarreal Hernandez',\n",
       " 'Octaviano Juarez Corro',\n",
       " 'Eugene Palmer',\n",
       " 'Rafael Caro Quintero',\n",
       " 'Bhadreshkumar Chetanbhai Patel',\n",
       " 'Alejandro Castillo',\n",
       " 'Robert William Fisher']"
      ]
     },
     "execution_count": 149,
     "metadata": {},
     "output_type": "execute_result"
    }
   ],
   "source": [
    "temp = []\n",
    "temp2 = []\n",
    "temp3 = []\n",
    "\n",
    "for w in wanted:\n",
    "    w = w.split(' ')\n",
    "    temp.append(w)\n",
    "\n",
    "for a in temp:\n",
    "    newa = []\n",
    "    for b in a:\n",
    "        b = b.capitalize()\n",
    "        newa.append(b)\n",
    "    temp2.append(newa)\n",
    "    \n",
    "for item in temp2:\n",
    "    t = ' '.join(item)\n",
    "    temp3.append(t)\n",
    "    \n",
    "temp3"
   ]
  },
  {
   "cell_type": "code",
   "execution_count": 161,
   "id": "fbe8cb04",
   "metadata": {},
   "outputs": [
    {
     "data": {
      "text/html": [
       "<div>\n",
       "<style scoped>\n",
       "    .dataframe tbody tr th:only-of-type {\n",
       "        vertical-align: middle;\n",
       "    }\n",
       "\n",
       "    .dataframe tbody tr th {\n",
       "        vertical-align: top;\n",
       "    }\n",
       "\n",
       "    .dataframe thead th {\n",
       "        text-align: right;\n",
       "    }\n",
       "</style>\n",
       "<table border=\"1\" class=\"dataframe\">\n",
       "  <thead>\n",
       "    <tr style=\"text-align: right;\">\n",
       "      <th></th>\n",
       "      <th>Name</th>\n",
       "    </tr>\n",
       "  </thead>\n",
       "  <tbody>\n",
       "    <tr>\n",
       "      <th>1</th>\n",
       "      <td>Arnoldo Jimenez</td>\n",
       "    </tr>\n",
       "    <tr>\n",
       "      <th>2</th>\n",
       "      <td>Jason Derek Brown</td>\n",
       "    </tr>\n",
       "    <tr>\n",
       "      <th>3</th>\n",
       "      <td>Alexis Flores</td>\n",
       "    </tr>\n",
       "    <tr>\n",
       "      <th>4</th>\n",
       "      <td>Jose Rodolfo Villarreal Hernandez</td>\n",
       "    </tr>\n",
       "    <tr>\n",
       "      <th>5</th>\n",
       "      <td>Octaviano Juarez Corro</td>\n",
       "    </tr>\n",
       "    <tr>\n",
       "      <th>6</th>\n",
       "      <td>Eugene Palmer</td>\n",
       "    </tr>\n",
       "    <tr>\n",
       "      <th>7</th>\n",
       "      <td>Rafael Caro Quintero</td>\n",
       "    </tr>\n",
       "    <tr>\n",
       "      <th>8</th>\n",
       "      <td>Bhadreshkumar Chetanbhai Patel</td>\n",
       "    </tr>\n",
       "    <tr>\n",
       "      <th>9</th>\n",
       "      <td>Alejandro Castillo</td>\n",
       "    </tr>\n",
       "    <tr>\n",
       "      <th>10</th>\n",
       "      <td>Robert William Fisher</td>\n",
       "    </tr>\n",
       "  </tbody>\n",
       "</table>\n",
       "</div>"
      ],
      "text/plain": [
       "                                 Name\n",
       "1                     Arnoldo Jimenez\n",
       "2                   Jason Derek Brown\n",
       "3                       Alexis Flores\n",
       "4   Jose Rodolfo Villarreal Hernandez\n",
       "5              Octaviano Juarez Corro\n",
       "6                       Eugene Palmer\n",
       "7                Rafael Caro Quintero\n",
       "8      Bhadreshkumar Chetanbhai Patel\n",
       "9                  Alejandro Castillo\n",
       "10              Robert William Fisher"
      ]
     },
     "execution_count": 161,
     "metadata": {},
     "output_type": "execute_result"
    }
   ],
   "source": [
    "topwanted = pd.DataFrame(temp3, index = list(range(1,11)), columns = ['Name'])\n",
    "topwanted"
   ]
  },
  {
   "cell_type": "markdown",
   "id": "joined-induction",
   "metadata": {},
   "source": [
    "### Display the 20 latest earthquakes info (date, time, latitude, longitude and region name) by the EMSC as a pandas dataframe"
   ]
  },
  {
   "cell_type": "code",
   "execution_count": 162,
   "id": "copyrighted-taiwan",
   "metadata": {},
   "outputs": [],
   "source": [
    "url = 'https://www.emsc-csem.org/Earthquake/'"
   ]
  },
  {
   "cell_type": "code",
   "execution_count": 163,
   "id": "f6fb65d3",
   "metadata": {},
   "outputs": [
    {
     "data": {
      "text/plain": [
       "200"
      ]
     },
     "execution_count": 163,
     "metadata": {},
     "output_type": "execute_result"
    }
   ],
   "source": [
    "response = requests.get(url)\n",
    "response.status_code"
   ]
  },
  {
   "cell_type": "code",
   "execution_count": 164,
   "id": "d8fc2cad",
   "metadata": {},
   "outputs": [],
   "source": [
    "soup = BeautifulSoup(response.content, \"html.parser\")"
   ]
  },
  {
   "cell_type": "code",
   "execution_count": 251,
   "id": "025d45f5",
   "metadata": {},
   "outputs": [
    {
     "data": {
      "text/plain": [
       "['Date', 'Time', 'Latitude degrees', 'Longitude degrees', 'Region name']"
      ]
     },
     "execution_count": 251,
     "metadata": {},
     "output_type": "execute_result"
    }
   ],
   "source": [
    "columns = []\n",
    "\n",
    "header = soup.find_all('th', attrs={'class': 'th2'})\n",
    "for d in header:\n",
    "    columns.append(d.get_text())\n",
    "\n",
    "columns = ['Date', 'Time', columns[2], columns[3], columns[6][:11]]\n",
    "\n",
    "columns"
   ]
  },
  {
   "cell_type": "code",
   "execution_count": 219,
   "id": "0349ac69",
   "metadata": {
    "scrolled": false
   },
   "outputs": [],
   "source": [
    "date_time = []\n",
    "\n",
    "dates = soup.find_all('td', attrs={'class': 'tabev6'})\n",
    "for d in dates:\n",
    "    date_time.append(d.get_text())\n",
    "\n",
    "date = []\n",
    "time = []\n",
    "marker = \"hr\"\n",
    "\n",
    "for d in date_time:\n",
    "    if marker not in d:\n",
    "        d2 = dparser.parse(d,fuzzy=True)\n",
    "        date.append(str(d2)[:10])\n",
    "        time.append(str(d2)[11:16])\n",
    "    else:        \n",
    "        d2 = dparser.parse(d.split(\"hr\")[0],fuzzy=True)\n",
    "        date.append(str(d2)[:10])\n",
    "        time.append(str(d2)[11:16])"
   ]
  },
  {
   "cell_type": "code",
   "execution_count": 237,
   "id": "994a845c",
   "metadata": {
    "scrolled": true
   },
   "outputs": [],
   "source": [
    "latitude = []\n",
    "longitude = []\n",
    "\n",
    "temp4 = soup.find_all('td', attrs={'class': 'tabev1'})\n",
    "counter = 1\n",
    "for l in temp4:\n",
    "    if (counter%2 == 0) is True:\n",
    "        longitude.append(l.get_text()[:5])\n",
    "        counter += 1\n",
    "    else:\n",
    "        latitude.append(l.get_text()[:5])\n",
    "        counter += 1"
   ]
  },
  {
   "cell_type": "code",
   "execution_count": 241,
   "id": "2ee678e0",
   "metadata": {},
   "outputs": [],
   "source": [
    "region = []\n",
    "\n",
    "temp5 = soup.find_all('td', attrs={'class': 'tb_region'})\n",
    "for r in temp5:\n",
    "    region.append(r.get_text().replace('\\xa0',''))"
   ]
  },
  {
   "cell_type": "code",
   "execution_count": 254,
   "id": "351e8403",
   "metadata": {},
   "outputs": [
    {
     "data": {
      "text/html": [
       "<div>\n",
       "<style scoped>\n",
       "    .dataframe tbody tr th:only-of-type {\n",
       "        vertical-align: middle;\n",
       "    }\n",
       "\n",
       "    .dataframe tbody tr th {\n",
       "        vertical-align: top;\n",
       "    }\n",
       "\n",
       "    .dataframe thead th {\n",
       "        text-align: right;\n",
       "    }\n",
       "</style>\n",
       "<table border=\"1\" class=\"dataframe\">\n",
       "  <thead>\n",
       "    <tr style=\"text-align: right;\">\n",
       "      <th></th>\n",
       "      <th>Date</th>\n",
       "      <th>Time</th>\n",
       "      <th>Latitude degrees</th>\n",
       "      <th>Longitude degrees</th>\n",
       "      <th>Region name</th>\n",
       "    </tr>\n",
       "  </thead>\n",
       "  <tbody>\n",
       "    <tr>\n",
       "      <th>0</th>\n",
       "      <td>2021-10-20</td>\n",
       "      <td>10:00</td>\n",
       "      <td>28.59</td>\n",
       "      <td>17.85</td>\n",
       "      <td>CANARY ISLANDS, SPAIN REGION</td>\n",
       "    </tr>\n",
       "    <tr>\n",
       "      <th>1</th>\n",
       "      <td>2021-10-20</td>\n",
       "      <td>09:58</td>\n",
       "      <td>28.56</td>\n",
       "      <td>17.83</td>\n",
       "      <td>CANARY ISLANDS, SPAIN REGION</td>\n",
       "    </tr>\n",
       "    <tr>\n",
       "      <th>2</th>\n",
       "      <td>2021-10-20</td>\n",
       "      <td>09:55</td>\n",
       "      <td>28.55</td>\n",
       "      <td>17.85</td>\n",
       "      <td>CANARY ISLANDS, SPAIN REGION</td>\n",
       "    </tr>\n",
       "    <tr>\n",
       "      <th>3</th>\n",
       "      <td>2021-10-20</td>\n",
       "      <td>09:54</td>\n",
       "      <td>28.56</td>\n",
       "      <td>17.84</td>\n",
       "      <td>CANARY ISLANDS, SPAIN REGION</td>\n",
       "    </tr>\n",
       "    <tr>\n",
       "      <th>4</th>\n",
       "      <td>2021-10-20</td>\n",
       "      <td>09:46</td>\n",
       "      <td>40.63</td>\n",
       "      <td>122.4</td>\n",
       "      <td>NORTHERN CALIFORNIA</td>\n",
       "    </tr>\n",
       "    <tr>\n",
       "      <th>5</th>\n",
       "      <td>2021-10-20</td>\n",
       "      <td>09:44</td>\n",
       "      <td>28.56</td>\n",
       "      <td>17.83</td>\n",
       "      <td>CANARY ISLANDS, SPAIN REGION</td>\n",
       "    </tr>\n",
       "    <tr>\n",
       "      <th>6</th>\n",
       "      <td>2021-10-20</td>\n",
       "      <td>09:28</td>\n",
       "      <td>42.42</td>\n",
       "      <td>9.02</td>\n",
       "      <td>SPAIN</td>\n",
       "    </tr>\n",
       "    <tr>\n",
       "      <th>7</th>\n",
       "      <td>2021-10-20</td>\n",
       "      <td>09:26</td>\n",
       "      <td>40.46</td>\n",
       "      <td>175.8</td>\n",
       "      <td>NORTH ISLAND OF NEW ZEALAND</td>\n",
       "    </tr>\n",
       "    <tr>\n",
       "      <th>8</th>\n",
       "      <td>2021-10-20</td>\n",
       "      <td>09:26</td>\n",
       "      <td>28.58</td>\n",
       "      <td>17.84</td>\n",
       "      <td>CANARY ISLANDS, SPAIN REGION</td>\n",
       "    </tr>\n",
       "    <tr>\n",
       "      <th>9</th>\n",
       "      <td>2021-10-20</td>\n",
       "      <td>09:25</td>\n",
       "      <td>28.56</td>\n",
       "      <td>17.86</td>\n",
       "      <td>CANARY ISLANDS, SPAIN REGION</td>\n",
       "    </tr>\n",
       "    <tr>\n",
       "      <th>10</th>\n",
       "      <td>2021-10-20</td>\n",
       "      <td>09:23</td>\n",
       "      <td>28.56</td>\n",
       "      <td>17.87</td>\n",
       "      <td>CANARY ISLANDS, SPAIN REGION</td>\n",
       "    </tr>\n",
       "    <tr>\n",
       "      <th>11</th>\n",
       "      <td>2021-10-20</td>\n",
       "      <td>09:21</td>\n",
       "      <td>37.25</td>\n",
       "      <td>20.46</td>\n",
       "      <td>IONIAN SEA</td>\n",
       "    </tr>\n",
       "    <tr>\n",
       "      <th>12</th>\n",
       "      <td>2021-10-20</td>\n",
       "      <td>09:21</td>\n",
       "      <td>8.26</td>\n",
       "      <td>116.7</td>\n",
       "      <td>LOMBOK REGION, INDONESIA</td>\n",
       "    </tr>\n",
       "    <tr>\n",
       "      <th>13</th>\n",
       "      <td>2021-10-20</td>\n",
       "      <td>09:20</td>\n",
       "      <td>18.69</td>\n",
       "      <td>69.41</td>\n",
       "      <td>TARAPACA, CHILE</td>\n",
       "    </tr>\n",
       "    <tr>\n",
       "      <th>14</th>\n",
       "      <td>2021-10-20</td>\n",
       "      <td>09:18</td>\n",
       "      <td>28.57</td>\n",
       "      <td>17.83</td>\n",
       "      <td>CANARY ISLANDS, SPAIN REGION</td>\n",
       "    </tr>\n",
       "    <tr>\n",
       "      <th>15</th>\n",
       "      <td>2021-10-20</td>\n",
       "      <td>09:18</td>\n",
       "      <td>47.55</td>\n",
       "      <td>6.56</td>\n",
       "      <td>FRANCE</td>\n",
       "    </tr>\n",
       "    <tr>\n",
       "      <th>16</th>\n",
       "      <td>2021-10-20</td>\n",
       "      <td>09:09</td>\n",
       "      <td>28.55</td>\n",
       "      <td>17.84</td>\n",
       "      <td>CANARY ISLANDS, SPAIN REGION</td>\n",
       "    </tr>\n",
       "    <tr>\n",
       "      <th>17</th>\n",
       "      <td>2021-10-20</td>\n",
       "      <td>09:06</td>\n",
       "      <td>28.56</td>\n",
       "      <td>17.84</td>\n",
       "      <td>CANARY ISLANDS, SPAIN REGION</td>\n",
       "    </tr>\n",
       "    <tr>\n",
       "      <th>18</th>\n",
       "      <td>2021-10-20</td>\n",
       "      <td>08:58</td>\n",
       "      <td>28.57</td>\n",
       "      <td>17.83</td>\n",
       "      <td>CANARY ISLANDS, SPAIN REGION</td>\n",
       "    </tr>\n",
       "    <tr>\n",
       "      <th>19</th>\n",
       "      <td>2021-10-20</td>\n",
       "      <td>08:57</td>\n",
       "      <td>16.41</td>\n",
       "      <td>93.20</td>\n",
       "      <td>CHIAPAS, MEXICO</td>\n",
       "    </tr>\n",
       "  </tbody>\n",
       "</table>\n",
       "</div>"
      ],
      "text/plain": [
       "          Date   Time Latitude degrees Longitude degrees  \\\n",
       "0   2021-10-20  10:00            28.59             17.85   \n",
       "1   2021-10-20  09:58            28.56             17.83   \n",
       "2   2021-10-20  09:55            28.55             17.85   \n",
       "3   2021-10-20  09:54            28.56             17.84   \n",
       "4   2021-10-20  09:46            40.63             122.4   \n",
       "5   2021-10-20  09:44            28.56             17.83   \n",
       "6   2021-10-20  09:28            42.42             9.02    \n",
       "7   2021-10-20  09:26            40.46             175.8   \n",
       "8   2021-10-20  09:26            28.58             17.84   \n",
       "9   2021-10-20  09:25            28.56             17.86   \n",
       "10  2021-10-20  09:23            28.56             17.87   \n",
       "11  2021-10-20  09:21            37.25             20.46   \n",
       "12  2021-10-20  09:21            8.26              116.7   \n",
       "13  2021-10-20  09:20            18.69             69.41   \n",
       "14  2021-10-20  09:18            28.57             17.83   \n",
       "15  2021-10-20  09:18            47.55             6.56    \n",
       "16  2021-10-20  09:09            28.55             17.84   \n",
       "17  2021-10-20  09:06            28.56             17.84   \n",
       "18  2021-10-20  08:58            28.57             17.83   \n",
       "19  2021-10-20  08:57            16.41             93.20   \n",
       "\n",
       "                     Region name  \n",
       "0   CANARY ISLANDS, SPAIN REGION  \n",
       "1   CANARY ISLANDS, SPAIN REGION  \n",
       "2   CANARY ISLANDS, SPAIN REGION  \n",
       "3   CANARY ISLANDS, SPAIN REGION  \n",
       "4            NORTHERN CALIFORNIA  \n",
       "5   CANARY ISLANDS, SPAIN REGION  \n",
       "6                          SPAIN  \n",
       "7    NORTH ISLAND OF NEW ZEALAND  \n",
       "8   CANARY ISLANDS, SPAIN REGION  \n",
       "9   CANARY ISLANDS, SPAIN REGION  \n",
       "10  CANARY ISLANDS, SPAIN REGION  \n",
       "11                    IONIAN SEA  \n",
       "12      LOMBOK REGION, INDONESIA  \n",
       "13               TARAPACA, CHILE  \n",
       "14  CANARY ISLANDS, SPAIN REGION  \n",
       "15                        FRANCE  \n",
       "16  CANARY ISLANDS, SPAIN REGION  \n",
       "17  CANARY ISLANDS, SPAIN REGION  \n",
       "18  CANARY ISLANDS, SPAIN REGION  \n",
       "19               CHIAPAS, MEXICO  "
      ]
     },
     "execution_count": 254,
     "metadata": {},
     "output_type": "execute_result"
    }
   ],
   "source": [
    "dct = {'Date': date[:20], 'Time': time[:20], 'Latitude degrees': latitude[:20]\n",
    "       , 'Longitude degrees': longitude[:20], 'Region name': region[:20]}\n",
    "\n",
    "earthquakes_info = pd.DataFrame.from_dict(dct)\n",
    "earthquakes_info"
   ]
  },
  {
   "cell_type": "markdown",
   "id": "dominican-defeat",
   "metadata": {},
   "source": [
    "### List all language names and number of related articles in the order they appear in [wikipedia.org](wikipedia.org)"
   ]
  },
  {
   "cell_type": "code",
   "execution_count": null,
   "id": "metric-vertex",
   "metadata": {},
   "outputs": [],
   "source": [
    "url = 'https://www.wikipedia.org/'"
   ]
  },
  {
   "cell_type": "code",
   "execution_count": null,
   "id": "d450f62c",
   "metadata": {},
   "outputs": [],
   "source": [
    "response = requests.get(url)\n",
    "response.status_code"
   ]
  },
  {
   "cell_type": "code",
   "execution_count": null,
   "id": "a3584a1c",
   "metadata": {},
   "outputs": [],
   "source": [
    "soup = BeautifulSoup(response.content, \"html.parser\")"
   ]
  },
  {
   "cell_type": "markdown",
   "id": "split-cartridge",
   "metadata": {},
   "source": [
    "### A list with the different kind of datasets available in [data.gov.uk](data.gov.uk)\n"
   ]
  },
  {
   "cell_type": "code",
   "execution_count": null,
   "id": "actual-parallel",
   "metadata": {},
   "outputs": [],
   "source": [
    "url = 'https://data.gov.uk/"
   ]
  },
  {
   "cell_type": "code",
   "execution_count": null,
   "id": "470a6c2a",
   "metadata": {},
   "outputs": [],
   "source": [
    "response = requests.get(url)\n",
    "response.status_code"
   ]
  },
  {
   "cell_type": "code",
   "execution_count": null,
   "id": "7f9e0ebd",
   "metadata": {},
   "outputs": [],
   "source": [
    "soup = BeautifulSoup(response.content, \"html.parser\")"
   ]
  },
  {
   "cell_type": "markdown",
   "id": "potential-malpractice",
   "metadata": {},
   "source": [
    "### Display the top 10 languages by number of native speakers stored in a pandas dataframe"
   ]
  },
  {
   "cell_type": "code",
   "execution_count": null,
   "id": "adaptive-calculator",
   "metadata": {},
   "outputs": [],
   "source": [
    "url = 'https://en.wikipedia.org/wiki/List_of_languages_by_number_of_native_speakers'"
   ]
  },
  {
   "cell_type": "code",
   "execution_count": null,
   "id": "b537aa05",
   "metadata": {},
   "outputs": [],
   "source": [
    "response = requests.get(url)\n",
    "response.status_code"
   ]
  },
  {
   "cell_type": "code",
   "execution_count": null,
   "id": "15875c1b",
   "metadata": {},
   "outputs": [],
   "source": [
    "soup = BeautifulSoup(response.content, \"html.parser\")"
   ]
  }
 ],
 "metadata": {
  "kernelspec": {
   "display_name": "Python 3",
   "language": "python",
   "name": "python3"
  },
  "language_info": {
   "codemirror_mode": {
    "name": "ipython",
    "version": 3
   },
   "file_extension": ".py",
   "mimetype": "text/x-python",
   "name": "python",
   "nbconvert_exporter": "python",
   "pygments_lexer": "ipython3",
   "version": "3.8.8"
  },
  "toc": {
   "base_numbering": 1,
   "nav_menu": {},
   "number_sections": true,
   "sideBar": true,
   "skip_h1_title": false,
   "title_cell": "Table of Contents",
   "title_sidebar": "Contents",
   "toc_cell": true,
   "toc_position": {},
   "toc_section_display": true,
   "toc_window_display": false
  },
  "varInspector": {
   "cols": {
    "lenName": 16,
    "lenType": 16,
    "lenVar": 40
   },
   "kernels_config": {
    "python": {
     "delete_cmd_postfix": "",
     "delete_cmd_prefix": "del ",
     "library": "var_list.py",
     "varRefreshCmd": "print(var_dic_list())"
    },
    "r": {
     "delete_cmd_postfix": ") ",
     "delete_cmd_prefix": "rm(",
     "library": "var_list.r",
     "varRefreshCmd": "cat(var_dic_list()) "
    }
   },
   "types_to_exclude": [
    "module",
    "function",
    "builtin_function_or_method",
    "instance",
    "_Feature"
   ],
   "window_display": false
  }
 },
 "nbformat": 4,
 "nbformat_minor": 5
}
